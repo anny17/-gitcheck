{
  "nbformat": 4,
  "nbformat_minor": 0,
  "metadata": {
    "colab": {
      "name": "imdbscraper.ipynb",
      "version": "0.3.2",
      "provenance": [],
      "include_colab_link": true
    },
    "kernelspec": {
      "name": "python3",
      "display_name": "Python 3"
    }
  },
  "cells": [
    {
      "cell_type": "markdown",
      "metadata": {
        "id": "view-in-github",
        "colab_type": "text"
      },
      "source": [
        "<a href=\"https://colab.research.google.com/github/anny17/-gitcheck/blob/master/imdbscraper.ipynb\" target=\"_parent\"><img src=\"https://colab.research.google.com/assets/colab-badge.svg\" alt=\"Open In Colab\"/></a>"
      ]
    },
    {
      "cell_type": "code",
      "metadata": {
        "id": "KaJIwASum6H3",
        "colab_type": "code",
        "outputId": "5afc8215-e229-48eb-b05a-a7a0bd40599d",
        "colab": {
          "base_uri": "https://localhost:8080/",
          "height": 54
        }
      },
      "source": [
        "from bs4 import BeautifulSoup\n",
        "\n",
        "import requests\n",
        "\n",
        "url = \"https://www.imdb.com/list/ls006299443/\"\n",
        "\n",
        "r = requests.get(url)\n",
        "\n",
        "soup = BeautifulSoup(r.content)\n",
        "\n",
        "group_data = soup.find_all(\"div\",{\"class\" : \"lister-item-content\"})\n",
        "data = []\n",
        "for item in group_data:\n",
        "  a = item.contents[1].find_all(\"a\")[0].text\n",
        "  '''count = 0\n",
        "  for i in item:\n",
        "    print(count,i)\n",
        "    count += 1\n",
        "    '''\n",
        "  b = item.contents[5].find_all(\"span\")[1].text\n",
        "  zzz = item.contents[9].find_all(\"a\")\n",
        "  lll = len(zzz)\n",
        "  vec = []\n",
        "  for i in range(lll):\n",
        "    vec.append(zzz[i].text)\n",
        "  tem = []\n",
        "  tem.append(a)\n",
        "  tem.append(b)\n",
        "  tem.append(vec)\n",
        "  data.append(tem)\n",
        "  #print(tem)\n",
        "print(data)"
      ],
      "execution_count": 62,
      "outputs": [
        {
          "output_type": "stream",
          "text": [
            "[['Tokyo Story', '8.2', ['Yasujirô Ozu', 'Chishû Ryû', 'Chieko Higashiyama', 'Sô Yamamura', 'Setsuko Hara']], ['The Rules of the Game', '8.1', ['Jean Renoir', 'Marcel Dalio', 'Nora Gregor', 'Paulette Dubost', 'Mila Parély']], ['Lawrence of Arabia', '8.3', ['T.E. Lawrence']], ['The Godfather', '9.2', []], ['The Godfather: Part II', '9', []], ['The Godfather: Part III', '7.6', []], ['Seven Samurai', '8.7', []], ['Citizen Kane', '8.3', []], ['Raging Bull', '8.2', ['Jake LaMotta']], ['Vertigo', '8.3', []], ['Some Like It Hot', '8.2', []], ['8½', '8.1', ['Federico Fellini', 'Marcello Mastroianni', 'Anouk Aimée', 'Claudia Cardinale', 'Sandra Milo']], ['Dr. Strangelove or: How I Learned to Stop Worrying and Love the Bomb', '8.4', []], [\"Singin' in the Rain\", '8.3', []], ['Taxi Driver', '8.3', []], ['The Searchers', '8', []], ['The Seventh Seal', '8.2', ['Ingmar Bergman', 'Max von Sydow', 'Gunnar Björnstrand', 'Bengt Ekerot', 'Nils Poppe']], ['Sweet Smell of Success', '8.1', []], ['Sunset Blvd.', '8.4', ['Billy Wilder', 'William Holden', 'Gloria Swanson', 'Erich von Stroheim', 'Nancy Olson']], ['The Third Man', '8.2', []], ['Pather Panchali', '8.5', ['Satyajit Ray', 'Kanu Bannerjee', 'Karuna Bannerjee', 'Subir Banerjee', 'Chunibala Devi']], ['Aparajito', '8.2', ['Satyajit Ray', 'Pinaki Sengupta', 'Smaran Ghosal', 'Kamala Adhikari', 'Lalchand Banerjee']], ['The World of Apu', '8.3', ['Satyajit Ray', 'Soumitra Chatterjee', 'Sharmila Tagore', 'Alok Chakravarty', 'Swapan Mukherjee']], ['Children of Paradise', '8.3', ['Marcel Carné', 'Arletty', 'Jean-Louis Barrault', 'Pierre Brasseur', 'Pierre Renoir']], ['The Discreet Charm of the Bourgeoisie', '7.9', []], ['Andrei Rublev', '8.2', ['Andrei Tarkovsky', 'Anatoliy Solonitsyn', 'Ivan Lapikov', 'Nikolay Grinko', 'Nikolay Sergeev']], ['The Passion of Joan of Arc', '8.1', ['Carl Theodor Dreyer', 'Maria Falconetti', 'Eugene Silvain', 'André Berley', 'Maurice Schutz']], ['Viridiana', '8.2', ['Luis Buñuel', 'Silvia Pinal', 'Francisco Rabal', 'Fernando Rey', 'José Calvo']], ['Toy Story', '8.3', []], ['Rashômon', '8.3', ['Akira Kurosawa', 'Toshirô Mifune', 'Machiko Kyô', 'Masayuki Mori', 'Takashi Shimura']], ['Wild Strawberries', '8.2', ['Ingmar Bergman', 'Victor Sjöström', 'Bibi Andersson', 'Ingrid Thulin', 'Gunnar Björnstrand']], ['To Be or Not to Be', '8.2', []], ['Sunrise', '8.2', ['F.W. Murnau', \"George O'Brien\", 'Janet Gaynor', 'Margaret Livingston', 'Bodil Rosing']], ['The Lord of the Rings: The Fellowship of the Ring', '8.8', []], ['The Lord of the Rings: The Two Towers', '8.7', []], ['The Lord of the Rings: The Return of the King', '8.9', []], ['2001: A Space Odyssey', '8.3', []], ['The Battle of Algiers', '8.1', []], ['Alexander Nevsky', '7.7', ['Sergei M. Eisenstein', 'Dmitriy Vasilev', 'Nikolay Cherkasov', 'Nikolai Okhlopkov', 'Andrei Abrikosov', 'Dmitriy Orlov']], ['Belle de Jour', '7.8', ['Luis Buñuel', 'Catherine Deneuve', 'Jean Sorel', 'Michel Piccoli', 'Geneviève Page']], ['Casablanca', '8.5', []], ['Goodfellas', '8.7', []], ['Tristana', '7.6', []], ['The Magnificent Ambersons', '7.9', []], ['Breaking the Waves', '7.9', []], [\"Sullivan's Travels\", '8.1', ['Preston Sturges', 'Joel McCrea', 'Veronica Lake', 'Robert Warwick', 'William Demarest']], ['Frankenstein', '7.9', []], ['Battleship Potemkin', '8', ['Sergei M. Eisenstein', 'Aleksandr Antonov', 'Vladimir Barskiy', 'Grigoriy Aleksandrov', 'Ivan Bobrov']], ['Double Indemnity', '8.3', []], [\"One Flew Over the Cuckoo's Nest\", '8.7', []], ['Weekend', '7.3', ['Jean-Luc Godard', 'Mireille Darc', 'Jean Yanne', 'Jean-Pierre Kalfon', 'Karl Marx']], ['Jules and Jim', '7.8', ['François Truffaut', 'Jeanne Moreau', 'Oskar Werner', 'Henri Serre', 'Vanna Urbino']], ['Breathless', '7.9', ['Jean-Luc Godard', 'Jean-Paul Belmondo', 'Jean Seberg', 'Daniel Boulanger', 'Henri-Jacques Huet']], ['Bonnie and Clyde', '7.8', []], ['Wings of Desire', '8.1', []], ['Fitzcarraldo', '8.1', ['Werner Herzog', 'Klaus Kinski', 'Claudia Cardinale', 'José Lewgoy', 'Miguel Ángel Fuentes']], ['If....', '7.6', ['Lindsay Anderson', 'Malcolm McDowell', 'David Wood', 'Richard Warwick', 'Christine Noonan']], ['The Wild Bunch', '8', []], ['The Red Shoes', '8.3', ['Michael Powell', 'Emeric Pressburger', 'Anton Walbrook', 'Marius Goring', 'Moira Shearer', 'Jean Short']], ['Annie Hall', '8', []], ['Tom Jones', '6.6', ['Tony Richardson', 'Albert Finney', 'Susannah York', 'George Devine', 'Rachel Kempson']], ['On the Waterfront', '8.2', []], ['West Side Story', '7.6', []], ['Saturday Night and Sunday Morning', '7.6', ['Karel Reisz', 'Albert Finney', 'Shirley Anne Field', 'Rachel Roberts', 'Hylda Baker']], ['The Grapes of Wrath', '8.1', []], ['Great Expectations', '7.9', ['David Lean', 'John Mills', 'Valerie Hobson', 'Tony Wager', 'Jean Simmons']], ['The Leopard', '8.1', []], [\"Schindler's List\", '8.9', ['Oskar Schindler']], ['Ashes and Diamonds', '7.9', ['Andrzej Wajda', 'Zbigniew Cybulski', 'Ewa Krzyzewska', 'Waclaw Zastrzezynski', 'Adam Pawlikowski']], ['À Nous la Liberté', '7.6', ['René Clair', 'Raymond Cordy', 'Henri Marchand', 'Rolla France', 'Paul Ollivier']], ['The 400 Blows', '8.1', ['François Truffaut', 'Jean-Pierre Léaud', 'Albert Rémy', 'Claire Maurier', 'Guy Decomble']], ['Stolen Kisses', '7.8', ['François Truffaut', 'Jean-Pierre Léaud', 'Claude Jade', 'Delphine Seyrig', 'Michael Lonsdale']], ['Bed & Board', '7.6', ['François Truffaut', 'Jean-Pierre Léaud', 'Claude Jade', 'Hiroko Berghauer', 'Barbara Laage']], ['Love on the Run', '7.1', ['François Truffaut', 'Jean-Pierre Léaud', 'Claude Jade', 'Marie-France Pisier', 'Dani']], ['Mr. Smith Goes to Washington', '8.2', []], [\"Monsieur Hulot's Holiday\", '7.5', ['Jacques Tati', 'Jacques Tati', 'Nathalie Pascaud', 'Micheline Rolla', 'Valentine Camax']], ['Two Tars', '7.4', ['James Parrott', 'Stan Laurel', 'Oliver Hardy', 'Edgar Kennedy', 'Thelma Hill']], ['Big Business', '7.8', ['James W. Horne', 'Leo McCarey', 'Stan Laurel', 'Oliver Hardy', 'James Finlayson', 'Charlie Hall']], [\"You're Darn Tootin'\", '6.8', ['Edgar Kennedy', 'Stan Laurel', 'Oliver Hardy', 'Wilson Benge', 'Chet Brandenburg']], ['Hog Wild', '7.7', ['James Parrott', 'Stan Laurel', 'Oliver Hardy', 'Dorothy Granger', 'Fay Holderness']], ['Laughing Gravy', '7.5', ['James W. Horne', 'Stan Laurel', 'Oliver Hardy', 'Harry Bernard', 'Charles Dorety']], ['Helpmates', '7.9', ['James Parrott', 'Stan Laurel', 'Oliver Hardy', 'Bobby Burns', 'Bob Callahan']], ['The Music Box', '8.1', ['James Parrott', 'Stan Laurel', 'Oliver Hardy', 'Dinah', 'Billy Gilbert']], ['Towed in a Hole', '7.9', ['George Marshall', 'Stan Laurel', 'Oliver Hardy', 'Billy Gilbert']], ['Dirty Work', '7.6', ['Lloyd French', 'Stan Laurel', 'Oliver Hardy', 'Samuel Adams', 'Jiggs']], ['Block-Heads', '7.6', ['John G. Blystone', 'Stan Laurel', 'Oliver Hardy', 'Patricia Ellis', 'Minna Gombell']], ['Chinatown', '8.2', []], ['Star Wars: Episode IV - A New Hope', '8.6', []], ['Star Wars: Episode V - The Empire Strikes Back', '8.7', []], ['Star Wars: Episode VI - Return of the Jedi', '8.3', []], ['Gosford Park', '7.3', []], ['Rear Window', '8.5', []], ['Aguirre, the Wrath of God', '8', ['Werner Herzog', 'Klaus Kinski', 'Ruy Guerra', 'Helena Rojo', 'Del Negro']], ['A Short Film About Killing', '8.1', ['Krzysztof Kieslowski', 'Miroslaw Baka', 'Krzysztof Globisz', 'Jan Tesarz', 'Zbigniew Zapasiewicz']], ['MASH', '7.6', []], ['Cries & Whispers', '8.1', ['Ingmar Bergman', 'Harriet Andersson', 'Liv Ullmann', 'Kari Sylwan', 'Ingrid Thulin']], [\"All the President's Men\", '8', ['Bob Woodward', 'Carl Bernstein', 'Richard Nixon']], ['The Nights of Cabiria', '8.1', ['Federico Fellini', 'Giulietta Masina', 'François Périer', 'Franca Marzi', 'Dorian Gray']], ['King Kong', '7.9', []], ['Gone with the Wind', '8.2', []]]\n"
          ],
          "name": "stdout"
        }
      ]
    }
  ]
}